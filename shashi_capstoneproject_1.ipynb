{
 "cells": [
  {
   "cell_type": "markdown",
   "id": "348271be",
   "metadata": {},
   "source": [
    "# Task\n",
    "can we predict the category (business, entertainment, etc.) of a news article given only its headline?\n",
    "\n",
    "can we predict the specific story that a news article refers to, given only its headline?"
   ]
  },
  {
   "cell_type": "code",
   "execution_count": 1,
   "id": "432fd426",
   "metadata": {},
   "outputs": [],
   "source": [
    "import pandas as pd\n",
    "import numpy as np\n",
    "import matplotlib.pyplot as plt\n",
    "import seaborn as sns\n"
   ]
  },
  {
   "cell_type": "code",
   "execution_count": 2,
   "id": "3f95707a",
   "metadata": {},
   "outputs": [],
   "source": [
    "df = pd.read_csv(r'C:\\Users\\hp\\Desktop\\BIA main 2\\uci-news-aggregator.csv')\n",
    "\n",
    "\n"
   ]
  },
  {
   "cell_type": "code",
   "execution_count": 3,
   "id": "819ac864",
   "metadata": {
    "scrolled": true
   },
   "outputs": [
    {
     "data": {
      "text/html": [
       "<div>\n",
       "<style scoped>\n",
       "    .dataframe tbody tr th:only-of-type {\n",
       "        vertical-align: middle;\n",
       "    }\n",
       "\n",
       "    .dataframe tbody tr th {\n",
       "        vertical-align: top;\n",
       "    }\n",
       "\n",
       "    .dataframe thead th {\n",
       "        text-align: right;\n",
       "    }\n",
       "</style>\n",
       "<table border=\"1\" class=\"dataframe\">\n",
       "  <thead>\n",
       "    <tr style=\"text-align: right;\">\n",
       "      <th></th>\n",
       "      <th>ID</th>\n",
       "      <th>TITLE</th>\n",
       "      <th>URL</th>\n",
       "      <th>PUBLISHER</th>\n",
       "      <th>CATEGORY</th>\n",
       "      <th>STORY</th>\n",
       "      <th>HOSTNAME</th>\n",
       "      <th>TIMESTAMP</th>\n",
       "    </tr>\n",
       "  </thead>\n",
       "  <tbody>\n",
       "    <tr>\n",
       "      <th>0</th>\n",
       "      <td>1</td>\n",
       "      <td>Fed official says weak data caused by weather,...</td>\n",
       "      <td>http://www.latimes.com/business/money/la-fi-mo...</td>\n",
       "      <td>Los Angeles Times</td>\n",
       "      <td>b</td>\n",
       "      <td>ddUyU0VZz0BRneMioxUPQVP6sIxvM</td>\n",
       "      <td>www.latimes.com</td>\n",
       "      <td>1394470370698</td>\n",
       "    </tr>\n",
       "    <tr>\n",
       "      <th>1</th>\n",
       "      <td>2</td>\n",
       "      <td>Fed's Charles Plosser sees high bar for change...</td>\n",
       "      <td>http://www.livemint.com/Politics/H2EvwJSK2VE6O...</td>\n",
       "      <td>Livemint</td>\n",
       "      <td>b</td>\n",
       "      <td>ddUyU0VZz0BRneMioxUPQVP6sIxvM</td>\n",
       "      <td>www.livemint.com</td>\n",
       "      <td>1394470371207</td>\n",
       "    </tr>\n",
       "    <tr>\n",
       "      <th>2</th>\n",
       "      <td>3</td>\n",
       "      <td>US open: Stocks fall after Fed official hints ...</td>\n",
       "      <td>http://www.ifamagazine.com/news/us-open-stocks...</td>\n",
       "      <td>IFA Magazine</td>\n",
       "      <td>b</td>\n",
       "      <td>ddUyU0VZz0BRneMioxUPQVP6sIxvM</td>\n",
       "      <td>www.ifamagazine.com</td>\n",
       "      <td>1394470371550</td>\n",
       "    </tr>\n",
       "    <tr>\n",
       "      <th>3</th>\n",
       "      <td>4</td>\n",
       "      <td>Fed risks falling 'behind the curve', Charles ...</td>\n",
       "      <td>http://www.ifamagazine.com/news/fed-risks-fall...</td>\n",
       "      <td>IFA Magazine</td>\n",
       "      <td>b</td>\n",
       "      <td>ddUyU0VZz0BRneMioxUPQVP6sIxvM</td>\n",
       "      <td>www.ifamagazine.com</td>\n",
       "      <td>1394470371793</td>\n",
       "    </tr>\n",
       "    <tr>\n",
       "      <th>4</th>\n",
       "      <td>5</td>\n",
       "      <td>Fed's Plosser: Nasty Weather Has Curbed Job Gr...</td>\n",
       "      <td>http://www.moneynews.com/Economy/federal-reser...</td>\n",
       "      <td>Moneynews</td>\n",
       "      <td>b</td>\n",
       "      <td>ddUyU0VZz0BRneMioxUPQVP6sIxvM</td>\n",
       "      <td>www.moneynews.com</td>\n",
       "      <td>1394470372027</td>\n",
       "    </tr>\n",
       "  </tbody>\n",
       "</table>\n",
       "</div>"
      ],
      "text/plain": [
       "   ID                                              TITLE  \\\n",
       "0   1  Fed official says weak data caused by weather,...   \n",
       "1   2  Fed's Charles Plosser sees high bar for change...   \n",
       "2   3  US open: Stocks fall after Fed official hints ...   \n",
       "3   4  Fed risks falling 'behind the curve', Charles ...   \n",
       "4   5  Fed's Plosser: Nasty Weather Has Curbed Job Gr...   \n",
       "\n",
       "                                                 URL          PUBLISHER  \\\n",
       "0  http://www.latimes.com/business/money/la-fi-mo...  Los Angeles Times   \n",
       "1  http://www.livemint.com/Politics/H2EvwJSK2VE6O...           Livemint   \n",
       "2  http://www.ifamagazine.com/news/us-open-stocks...       IFA Magazine   \n",
       "3  http://www.ifamagazine.com/news/fed-risks-fall...       IFA Magazine   \n",
       "4  http://www.moneynews.com/Economy/federal-reser...          Moneynews   \n",
       "\n",
       "  CATEGORY                          STORY             HOSTNAME      TIMESTAMP  \n",
       "0        b  ddUyU0VZz0BRneMioxUPQVP6sIxvM      www.latimes.com  1394470370698  \n",
       "1        b  ddUyU0VZz0BRneMioxUPQVP6sIxvM     www.livemint.com  1394470371207  \n",
       "2        b  ddUyU0VZz0BRneMioxUPQVP6sIxvM  www.ifamagazine.com  1394470371550  \n",
       "3        b  ddUyU0VZz0BRneMioxUPQVP6sIxvM  www.ifamagazine.com  1394470371793  \n",
       "4        b  ddUyU0VZz0BRneMioxUPQVP6sIxvM    www.moneynews.com  1394470372027  "
      ]
     },
     "execution_count": 3,
     "metadata": {},
     "output_type": "execute_result"
    }
   ],
   "source": [
    "df.head()"
   ]
  },
  {
   "cell_type": "code",
   "execution_count": 4,
   "id": "458b5b2f",
   "metadata": {},
   "outputs": [
    {
     "name": "stdout",
     "output_type": "stream",
     "text": [
      "<class 'pandas.core.frame.DataFrame'>\n",
      "RangeIndex: 422419 entries, 0 to 422418\n",
      "Data columns (total 8 columns):\n",
      " #   Column     Non-Null Count   Dtype \n",
      "---  ------     --------------   ----- \n",
      " 0   ID         422419 non-null  int64 \n",
      " 1   TITLE      422419 non-null  object\n",
      " 2   URL        422419 non-null  object\n",
      " 3   PUBLISHER  422417 non-null  object\n",
      " 4   CATEGORY   422419 non-null  object\n",
      " 5   STORY      422419 non-null  object\n",
      " 6   HOSTNAME   422419 non-null  object\n",
      " 7   TIMESTAMP  422419 non-null  int64 \n",
      "dtypes: int64(2), object(6)\n",
      "memory usage: 25.8+ MB\n"
     ]
    }
   ],
   "source": [
    "df.info()"
   ]
  },
  {
   "cell_type": "code",
   "execution_count": 5,
   "id": "a0049ec6",
   "metadata": {},
   "outputs": [
    {
     "data": {
      "text/plain": [
       "7230"
      ]
     },
     "execution_count": 5,
     "metadata": {},
     "output_type": "execute_result"
    }
   ],
   "source": [
    "len(df['STORY'].unique())"
   ]
  },
  {
   "cell_type": "code",
   "execution_count": 6,
   "id": "b78c381f",
   "metadata": {},
   "outputs": [
    {
     "data": {
      "text/plain": [
       "['TITLE', 'URL', 'PUBLISHER', 'CATEGORY', 'STORY', 'HOSTNAME', 'TIMESTAMP']"
      ]
     },
     "execution_count": 6,
     "metadata": {},
     "output_type": "execute_result"
    }
   ],
   "source": [
    "[\"TITLE\" , \"URL\", \"PUBLISHER\",\"CATEGORY\",\"STORY\", \"HOSTNAME\", \"TIMESTAMP\" ]"
   ]
  },
  {
   "cell_type": "code",
   "execution_count": 7,
   "id": "2d667af0",
   "metadata": {},
   "outputs": [],
   "source": [
    "df.drop(['URL','HOSTNAME','TIMESTAMP'],axis=1,inplace=True)"
   ]
  },
  {
   "cell_type": "code",
   "execution_count": 8,
   "id": "80e06bc6",
   "metadata": {},
   "outputs": [
    {
     "data": {
      "text/html": [
       "<div>\n",
       "<style scoped>\n",
       "    .dataframe tbody tr th:only-of-type {\n",
       "        vertical-align: middle;\n",
       "    }\n",
       "\n",
       "    .dataframe tbody tr th {\n",
       "        vertical-align: top;\n",
       "    }\n",
       "\n",
       "    .dataframe thead th {\n",
       "        text-align: right;\n",
       "    }\n",
       "</style>\n",
       "<table border=\"1\" class=\"dataframe\">\n",
       "  <thead>\n",
       "    <tr style=\"text-align: right;\">\n",
       "      <th></th>\n",
       "      <th>ID</th>\n",
       "      <th>TITLE</th>\n",
       "      <th>PUBLISHER</th>\n",
       "      <th>CATEGORY</th>\n",
       "      <th>STORY</th>\n",
       "    </tr>\n",
       "  </thead>\n",
       "  <tbody>\n",
       "    <tr>\n",
       "      <th>0</th>\n",
       "      <td>1</td>\n",
       "      <td>Fed official says weak data caused by weather,...</td>\n",
       "      <td>Los Angeles Times</td>\n",
       "      <td>b</td>\n",
       "      <td>ddUyU0VZz0BRneMioxUPQVP6sIxvM</td>\n",
       "    </tr>\n",
       "    <tr>\n",
       "      <th>1</th>\n",
       "      <td>2</td>\n",
       "      <td>Fed's Charles Plosser sees high bar for change...</td>\n",
       "      <td>Livemint</td>\n",
       "      <td>b</td>\n",
       "      <td>ddUyU0VZz0BRneMioxUPQVP6sIxvM</td>\n",
       "    </tr>\n",
       "    <tr>\n",
       "      <th>2</th>\n",
       "      <td>3</td>\n",
       "      <td>US open: Stocks fall after Fed official hints ...</td>\n",
       "      <td>IFA Magazine</td>\n",
       "      <td>b</td>\n",
       "      <td>ddUyU0VZz0BRneMioxUPQVP6sIxvM</td>\n",
       "    </tr>\n",
       "    <tr>\n",
       "      <th>3</th>\n",
       "      <td>4</td>\n",
       "      <td>Fed risks falling 'behind the curve', Charles ...</td>\n",
       "      <td>IFA Magazine</td>\n",
       "      <td>b</td>\n",
       "      <td>ddUyU0VZz0BRneMioxUPQVP6sIxvM</td>\n",
       "    </tr>\n",
       "    <tr>\n",
       "      <th>4</th>\n",
       "      <td>5</td>\n",
       "      <td>Fed's Plosser: Nasty Weather Has Curbed Job Gr...</td>\n",
       "      <td>Moneynews</td>\n",
       "      <td>b</td>\n",
       "      <td>ddUyU0VZz0BRneMioxUPQVP6sIxvM</td>\n",
       "    </tr>\n",
       "  </tbody>\n",
       "</table>\n",
       "</div>"
      ],
      "text/plain": [
       "   ID                                              TITLE          PUBLISHER  \\\n",
       "0   1  Fed official says weak data caused by weather,...  Los Angeles Times   \n",
       "1   2  Fed's Charles Plosser sees high bar for change...           Livemint   \n",
       "2   3  US open: Stocks fall after Fed official hints ...       IFA Magazine   \n",
       "3   4  Fed risks falling 'behind the curve', Charles ...       IFA Magazine   \n",
       "4   5  Fed's Plosser: Nasty Weather Has Curbed Job Gr...          Moneynews   \n",
       "\n",
       "  CATEGORY                          STORY  \n",
       "0        b  ddUyU0VZz0BRneMioxUPQVP6sIxvM  \n",
       "1        b  ddUyU0VZz0BRneMioxUPQVP6sIxvM  \n",
       "2        b  ddUyU0VZz0BRneMioxUPQVP6sIxvM  \n",
       "3        b  ddUyU0VZz0BRneMioxUPQVP6sIxvM  \n",
       "4        b  ddUyU0VZz0BRneMioxUPQVP6sIxvM  "
      ]
     },
     "execution_count": 8,
     "metadata": {},
     "output_type": "execute_result"
    }
   ],
   "source": [
    "df.head()"
   ]
  },
  {
   "cell_type": "code",
   "execution_count": 9,
   "id": "b1f148e9",
   "metadata": {},
   "outputs": [
    {
     "data": {
      "text/plain": [
       "0"
      ]
     },
     "execution_count": 9,
     "metadata": {},
     "output_type": "execute_result"
    }
   ],
   "source": [
    "df.duplicated().sum()"
   ]
  },
  {
   "cell_type": "code",
   "execution_count": 10,
   "id": "fc12f98e",
   "metadata": {},
   "outputs": [
    {
     "data": {
      "text/plain": [
       "ID           0\n",
       "TITLE        0\n",
       "PUBLISHER    2\n",
       "CATEGORY     0\n",
       "STORY        0\n",
       "dtype: int64"
      ]
     },
     "execution_count": 10,
     "metadata": {},
     "output_type": "execute_result"
    }
   ],
   "source": [
    "#to find null values in the data\n",
    "df.isnull().sum()"
   ]
  },
  {
   "cell_type": "code",
   "execution_count": 30,
   "id": "d62d9129",
   "metadata": {},
   "outputs": [
    {
     "data": {
      "text/plain": [
       "(422417, 4)"
      ]
     },
     "execution_count": 30,
     "metadata": {},
     "output_type": "execute_result"
    }
   ],
   "source": [
    "df.shape"
   ]
  },
  {
   "cell_type": "code",
   "execution_count": 31,
   "id": "cb72215f",
   "metadata": {},
   "outputs": [],
   "source": [
    "#to remove null values\n",
    "df.dropna(subset=[\"PUBLISHER\"], axis=0, inplace=True)"
   ]
  },
  {
   "cell_type": "code",
   "execution_count": 14,
   "id": "08e1f34e",
   "metadata": {},
   "outputs": [
    {
     "data": {
      "text/html": [
       "<div>\n",
       "<style scoped>\n",
       "    .dataframe tbody tr th:only-of-type {\n",
       "        vertical-align: middle;\n",
       "    }\n",
       "\n",
       "    .dataframe tbody tr th {\n",
       "        vertical-align: top;\n",
       "    }\n",
       "\n",
       "    .dataframe thead th {\n",
       "        text-align: right;\n",
       "    }\n",
       "</style>\n",
       "<table border=\"1\" class=\"dataframe\">\n",
       "  <thead>\n",
       "    <tr style=\"text-align: right;\">\n",
       "      <th></th>\n",
       "      <th>ID</th>\n",
       "      <th>TITLE</th>\n",
       "      <th>PUBLISHER</th>\n",
       "      <th>CATEGORY</th>\n",
       "      <th>STORY</th>\n",
       "    </tr>\n",
       "  </thead>\n",
       "  <tbody>\n",
       "    <tr>\n",
       "      <th>0</th>\n",
       "      <td>0</td>\n",
       "      <td>0</td>\n",
       "      <td>0</td>\n",
       "      <td>0</td>\n",
       "      <td>0</td>\n",
       "    </tr>\n",
       "  </tbody>\n",
       "</table>\n",
       "</div>"
      ],
      "text/plain": [
       "   ID  TITLE  PUBLISHER  CATEGORY  STORY\n",
       "0   0      0          0         0      0"
      ]
     },
     "execution_count": 14,
     "metadata": {},
     "output_type": "execute_result"
    }
   ],
   "source": [
    "#checking deleted null values\n",
    "df.isnull().sum().to_frame().T"
   ]
  },
  {
   "cell_type": "code",
   "execution_count": 15,
   "id": "4ce309d5",
   "metadata": {},
   "outputs": [],
   "source": [
    "sample_df = df.sample(n=1200)"
   ]
  },
  {
   "cell_type": "code",
   "execution_count": 16,
   "id": "783963dc",
   "metadata": {},
   "outputs": [
    {
     "data": {
      "text/html": [
       "<div>\n",
       "<style scoped>\n",
       "    .dataframe tbody tr th:only-of-type {\n",
       "        vertical-align: middle;\n",
       "    }\n",
       "\n",
       "    .dataframe tbody tr th {\n",
       "        vertical-align: top;\n",
       "    }\n",
       "\n",
       "    .dataframe thead th {\n",
       "        text-align: right;\n",
       "    }\n",
       "</style>\n",
       "<table border=\"1\" class=\"dataframe\">\n",
       "  <thead>\n",
       "    <tr style=\"text-align: right;\">\n",
       "      <th></th>\n",
       "      <th>ID</th>\n",
       "      <th>TITLE</th>\n",
       "      <th>PUBLISHER</th>\n",
       "      <th>CATEGORY</th>\n",
       "      <th>STORY</th>\n",
       "    </tr>\n",
       "  </thead>\n",
       "  <tbody>\n",
       "    <tr>\n",
       "      <th>421938</th>\n",
       "      <td>422457</td>\n",
       "      <td>Obama administration picks CEO for HealthCare.gov</td>\n",
       "      <td>Fox News</td>\n",
       "      <td>m</td>\n",
       "      <td>drbHX2-GkgsIZjMovsFKIC2IOEHBM</td>\n",
       "    </tr>\n",
       "    <tr>\n",
       "      <th>401776</th>\n",
       "      <td>402295</td>\n",
       "      <td>China Pursues Monopoly Investigation of Microsoft</td>\n",
       "      <td>Wireless Week</td>\n",
       "      <td>t</td>\n",
       "      <td>dbiqwmupWq9ifvMVYDhySlUaxf2iM</td>\n",
       "    </tr>\n",
       "    <tr>\n",
       "      <th>139777</th>\n",
       "      <td>140113</td>\n",
       "      <td>Bryan Singer Lawsuit Update: Alleged Victim Mi...</td>\n",
       "      <td>Headlines \\&amp; Global News</td>\n",
       "      <td>e</td>\n",
       "      <td>df1xq0HmEv1vT0MdNZ37IHj0mRQPM</td>\n",
       "    </tr>\n",
       "    <tr>\n",
       "      <th>174651</th>\n",
       "      <td>174987</td>\n",
       "      <td>Watch Delvin Choice Sing on The Voice 2014 Liv...</td>\n",
       "      <td>Wetpaint</td>\n",
       "      <td>e</td>\n",
       "      <td>d3VULNVO4EviXoMeM4wyN7rMxClfM</td>\n",
       "    </tr>\n",
       "    <tr>\n",
       "      <th>371543</th>\n",
       "      <td>372003</td>\n",
       "      <td>AbbVie Ups the Stakes in Its Attempt to Acquir...</td>\n",
       "      <td>Motley Fool</td>\n",
       "      <td>b</td>\n",
       "      <td>dlknCqBVrOVJ4WMTGn5UzGeYobmoM</td>\n",
       "    </tr>\n",
       "  </tbody>\n",
       "</table>\n",
       "</div>"
      ],
      "text/plain": [
       "            ID                                              TITLE  \\\n",
       "421938  422457  Obama administration picks CEO for HealthCare.gov   \n",
       "401776  402295  China Pursues Monopoly Investigation of Microsoft   \n",
       "139777  140113  Bryan Singer Lawsuit Update: Alleged Victim Mi...   \n",
       "174651  174987  Watch Delvin Choice Sing on The Voice 2014 Liv...   \n",
       "371543  372003  AbbVie Ups the Stakes in Its Attempt to Acquir...   \n",
       "\n",
       "                       PUBLISHER CATEGORY                          STORY  \n",
       "421938                  Fox News        m  drbHX2-GkgsIZjMovsFKIC2IOEHBM  \n",
       "401776             Wireless Week        t  dbiqwmupWq9ifvMVYDhySlUaxf2iM  \n",
       "139777  Headlines \\& Global News        e  df1xq0HmEv1vT0MdNZ37IHj0mRQPM  \n",
       "174651                  Wetpaint        e  d3VULNVO4EviXoMeM4wyN7rMxClfM  \n",
       "371543               Motley Fool        b  dlknCqBVrOVJ4WMTGn5UzGeYobmoM  "
      ]
     },
     "execution_count": 16,
     "metadata": {},
     "output_type": "execute_result"
    }
   ],
   "source": [
    "sample_df.head()"
   ]
  },
  {
   "cell_type": "code",
   "execution_count": 17,
   "id": "8060140c",
   "metadata": {},
   "outputs": [
    {
     "name": "stdout",
     "output_type": "stream",
     "text": [
      "Int64Index([     1,      2,      3,      4,      5,      6,      7,      8,\n",
      "                 9,     10,\n",
      "            ...\n",
      "            422928, 422929, 422930, 422931, 422932, 422933, 422934, 422935,\n",
      "            422936, 422937],\n",
      "           dtype='int64', name='ID', length=422417)\n"
     ]
    }
   ],
   "source": [
    "df = pd.DataFrame(df)\n",
    "\n",
    "# Set the 'name' column as the index\n",
    "df.set_index('ID', inplace=True)\n",
    "\n",
    "# Print the index of the DataFrame\n",
    "print(df.index)"
   ]
  },
  {
   "cell_type": "code",
   "execution_count": 18,
   "id": "0a4ae80f",
   "metadata": {},
   "outputs": [],
   "source": [
    "#using sklearn for machine learning algorithums.\n",
    "\n",
    "from sklearn.model_selection import train_test_split\n",
    "from sklearn.feature_extraction.text import CountVectorizer\n",
    "from sklearn.linear_model import LogisticRegression\n",
    "\n",
    "\n",
    "\n"
   ]
  },
  {
   "cell_type": "code",
   "execution_count": 19,
   "id": "8d9003e4",
   "metadata": {},
   "outputs": [],
   "source": [
    "#split the deta set innto training and testing deta sets\n",
    "X_train, X_test, y_train, y_test = train_test_split(df['TITLE'], df['CATEGORY'])"
   ]
  },
  {
   "cell_type": "code",
   "execution_count": 20,
   "id": "94bf285c",
   "metadata": {},
   "outputs": [
    {
     "data": {
      "text/plain": [
       "ID\n",
       "277426    UPDATE 4-Emirates cancels 70-plane A350 order ...\n",
       "208889    Malware More Likely To Affect Windows 7 And Vi...\n",
       "115898    Concert review: Miley Cyrus dazzles the senses...\n",
       "34333               Giraffe's 'goodbye' to dying zoo worker\n",
       "143333    Nike fires majority of FuelBand team as it pre...\n",
       "Name: TITLE, dtype: object"
      ]
     },
     "execution_count": 20,
     "metadata": {},
     "output_type": "execute_result"
    }
   ],
   "source": [
    "X_train.head()"
   ]
  },
  {
   "cell_type": "code",
   "execution_count": 21,
   "id": "37af83e9",
   "metadata": {},
   "outputs": [
    {
     "data": {
      "text/plain": [
       "ID\n",
       "296646    'Batman vs Superman' Movie News: Metropolis Ho...\n",
       "406917    Panasonic says to invest in $5 bln Tesla batte...\n",
       "63708     Autism Now Affects 1 In 68 Children, A 37-Fold...\n",
       "217967    Goodbye, Aio: Cricket Wireless Takes Over With...\n",
       "379043    Roche and Exelixis herald a Phase III victory ...\n",
       "Name: TITLE, dtype: object"
      ]
     },
     "execution_count": 21,
     "metadata": {},
     "output_type": "execute_result"
    }
   ],
   "source": [
    "X_test.head()"
   ]
  },
  {
   "cell_type": "code",
   "execution_count": 22,
   "id": "22781111",
   "metadata": {},
   "outputs": [],
   "source": [
    "#Extract features from the headlines using a count vectorizer\n",
    "vectorizer = CountVectorizer()\n",
    "X_train_vec = vectorizer.fit_transform(X_train)\n",
    "X_test_vec = vectorizer.transform(X_test)"
   ]
  },
  {
   "cell_type": "code",
   "execution_count": 23,
   "id": "ec10799c",
   "metadata": {},
   "outputs": [
    {
     "name": "stdout",
     "output_type": "stream",
     "text": [
      "  (0, 45702)\t1\n",
      "  (0, 15822)\t1\n",
      "  (0, 8953)\t1\n",
      "  (0, 2699)\t1\n",
      "  (0, 33242)\t1\n",
      "  (0, 3125)\t1\n",
      "  (0, 31374)\t1\n",
      "  (0, 22807)\t1\n",
      "  (0, 7442)\t1\n",
      "  (0, 43848)\t1\n",
      "  (0, 3987)\t1\n",
      "  (0, 37336)\t1\n",
      "  (1, 43848)\t1\n",
      "  (1, 27124)\t1\n",
      "  (1, 29112)\t1\n",
      "  (1, 26173)\t1\n",
      "  (1, 3774)\t1\n",
      "  (1, 47631)\t2\n",
      "  (1, 4542)\t1\n",
      "  (1, 46551)\t1\n",
      "  (1, 43365)\t1\n",
      "  (1, 48188)\t1\n",
      "  (2, 11157)\t1\n",
      "  (2, 36827)\t1\n",
      "  (2, 28410)\t1\n",
      "  :\t:\n",
      "  (316809, 19284)\t1\n",
      "  (316810, 22807)\t1\n",
      "  (316810, 47725)\t1\n",
      "  (316810, 41313)\t1\n",
      "  (316810, 31530)\t1\n",
      "  (316810, 15444)\t1\n",
      "  (316810, 40621)\t1\n",
      "  (316810, 17367)\t1\n",
      "  (316810, 42329)\t1\n",
      "  (316810, 39172)\t1\n",
      "  (316810, 9736)\t1\n",
      "  (316810, 48157)\t1\n",
      "  (316810, 7155)\t1\n",
      "  (316811, 22807)\t1\n",
      "  (316811, 43848)\t1\n",
      "  (316811, 43385)\t1\n",
      "  (316811, 42785)\t1\n",
      "  (316811, 17726)\t1\n",
      "  (316811, 26351)\t1\n",
      "  (316811, 40426)\t1\n",
      "  (316811, 26340)\t1\n",
      "  (316811, 3485)\t1\n",
      "  (316811, 14036)\t1\n",
      "  (316811, 11654)\t1\n",
      "  (316811, 28097)\t1   (0, 6380)\t1\n",
      "  (0, 19523)\t1\n",
      "  (0, 21833)\t1\n",
      "  (0, 28205)\t1\n",
      "  (0, 29275)\t1\n",
      "  (0, 30133)\t1\n",
      "  (0, 42229)\t2\n",
      "  (0, 46707)\t1\n",
      "  (0, 47725)\t1\n",
      "  (1, 6395)\t1\n",
      "  (1, 7376)\t1\n",
      "  (1, 11974)\t1\n",
      "  (1, 13674)\t1\n",
      "  (1, 22807)\t1\n",
      "  (1, 23616)\t1\n",
      "  (1, 31175)\t1\n",
      "  (1, 32044)\t1\n",
      "  (1, 33258)\t1\n",
      "  (1, 38159)\t1\n",
      "  (1, 43308)\t1\n",
      "  (1, 43848)\t1\n",
      "  (2, 1823)\t1\n",
      "  (2, 2640)\t1\n",
      "  (2, 3780)\t1\n",
      "  (2, 5711)\t1\n",
      "  :\t:\n",
      "  (105602, 41313)\t1\n",
      "  (105602, 43848)\t1\n",
      "  (105602, 43914)\t1\n",
      "  (105603, 671)\t1\n",
      "  (105603, 4976)\t1\n",
      "  (105603, 8929)\t1\n",
      "  (105603, 19466)\t1\n",
      "  (105603, 19679)\t1\n",
      "  (105603, 19927)\t1\n",
      "  (105603, 31175)\t1\n",
      "  (105603, 31848)\t1\n",
      "  (105603, 40797)\t1\n",
      "  (105603, 48387)\t1\n",
      "  (105603, 48402)\t1\n",
      "  (105604, 8179)\t1\n",
      "  (105604, 17012)\t1\n",
      "  (105604, 24596)\t1\n",
      "  (105604, 24925)\t1\n",
      "  (105604, 30106)\t1\n",
      "  (105604, 32989)\t1\n",
      "  (105604, 43046)\t1\n",
      "  (105604, 43848)\t1\n",
      "  (105604, 47185)\t1\n",
      "  (105604, 47579)\t1\n",
      "  (105604, 48402)\t1\n"
     ]
    }
   ],
   "source": [
    "print(X_train_vec, X_test_vec)"
   ]
  },
  {
   "cell_type": "code",
   "execution_count": 24,
   "id": "e83d33ff",
   "metadata": {},
   "outputs": [
    {
     "name": "stderr",
     "output_type": "stream",
     "text": [
      "C:\\Users\\hp\\anaconda3\\lib\\site-packages\\sklearn\\linear_model\\_logistic.py:814: ConvergenceWarning: lbfgs failed to converge (status=1):\n",
      "STOP: TOTAL NO. of ITERATIONS REACHED LIMIT.\n",
      "\n",
      "Increase the number of iterations (max_iter) or scale the data as shown in:\n",
      "    https://scikit-learn.org/stable/modules/preprocessing.html\n",
      "Please also refer to the documentation for alternative solver options:\n",
      "    https://scikit-learn.org/stable/modules/linear_model.html#logistic-regression\n",
      "  n_iter_i = _check_optimize_result(\n"
     ]
    },
    {
     "name": "stdout",
     "output_type": "stream",
     "text": [
      "Accuracy: 0.9652633107331793\n"
     ]
    }
   ],
   "source": [
    "#train a logisticregressio model\n",
    "\n",
    "model = LogisticRegression()\n",
    "model.fit(X_train_vec, y_train)\n",
    "\n",
    "#Evaluate the model on the testing set\n",
    "score = model.score(X_train_vec, y_train)\n",
    "print('Accuracy:', score)"
   ]
  },
  {
   "cell_type": "code",
   "execution_count": null,
   "id": "278ec88e",
   "metadata": {},
   "outputs": [],
   "source": []
  },
  {
   "cell_type": "code",
   "execution_count": 25,
   "id": "c799b8ed",
   "metadata": {},
   "outputs": [],
   "source": [
    "#This code uses a trained machine learning model to make predictions on a set of test data.\n",
    "y_pred = model.predict(X_test_vec)"
   ]
  },
  {
   "cell_type": "code",
   "execution_count": 26,
   "id": "83bdb4d4",
   "metadata": {},
   "outputs": [],
   "source": [
    "from sklearn.metrics import accuracy_score, precision_score, recall_score, confusion_matrix\n",
    "\n",
    "# assume y_true and y_pred are the true and predicted labels respectively\n",
    "accuracy = accuracy_score(y_test, y_pred)\n",
    "precision = precision_score(y_test, y_pred, average='macro')\n",
    "recall = recall_score(y_test, y_pred, average='macro')\n",
    "\n",
    "# to get a confusion matrix\n",
    "confusion_mat = confusion_matrix(y_test, y_pred)\n"
   ]
  },
  {
   "cell_type": "code",
   "execution_count": 27,
   "id": "3d64c600",
   "metadata": {},
   "outputs": [
    {
     "name": "stdout",
     "output_type": "stream",
     "text": [
      "0.9470195539983902\n",
      "0.9460821755701057\n",
      "0.9421174682342748\n",
      "[[27049   383   224  1361]\n",
      " [  460 37284   141   282]\n",
      " [  395   222 10520   145]\n",
      " [ 1478   384   120 25157]]\n"
     ]
    }
   ],
   "source": [
    "print(accuracy)\n",
    "print(precision)\n",
    "print(recall)\n",
    "print(confusion_mat)"
   ]
  },
  {
   "cell_type": "code",
   "execution_count": null,
   "id": "0dc7811a",
   "metadata": {},
   "outputs": [],
   "source": [
    "# Group the article by story id\n",
    "story_groups = df.groupby('STORY')\n",
    "\n",
    "#print the umer of stories ad the number of articles per story\n",
    "\n",
    "print('Number of stories:', len(story_groups))\n",
    "print('Number of articles per story:')\n",
    "print(story_groups.size())"
   ]
  },
  {
   "cell_type": "markdown",
   "id": "0a1d5a16",
   "metadata": {},
   "source": [
    "#can we predict the specific story that a news article refers to, given only its headline?\n",
    "\n",
    "# justification of story prediction.\n",
    "\n",
    "\n",
    "#`If you have only the story IDs and not the complete story texts, it may be more difficult to predict the categories of the stories based on their headlines alone. However, it may still be possible to perform some analysis using the available data.\n",
    "\n",
    "One approach you could take is to try to extract some features from the headlines that may be indicative of the story category. For example, you could try using natural language processing techniques to extract named entities (such as people, organizations, and locations) from the headlines, or you could use sentiment analysis to determine the overall sentiment of the headline.\n",
    "\n",
    "You could also try to use the available story IDs to link the headlines to other sources of information, such as external databases or websites, that may provide additional context about the stories and their categories.\n",
    "\n",
    "      However, it's important to keep in mind that the accuracy of any predictions based on incomplete or limited data may be lower than if you had access to the complete story texts. It's also possible that some categories may be more difficult to predict based on the available data than others. Therefore, it's important to evaluate the performance of any analysis or predictions using appropriate metrics and to interpret the results with caution.\n"
   ]
  }
 ],
 "metadata": {
  "kernelspec": {
   "display_name": "Python 3 (ipykernel)",
   "language": "python",
   "name": "python3"
  },
  "language_info": {
   "codemirror_mode": {
    "name": "ipython",
    "version": 3
   },
   "file_extension": ".py",
   "mimetype": "text/x-python",
   "name": "python",
   "nbconvert_exporter": "python",
   "pygments_lexer": "ipython3",
   "version": "3.9.13"
  }
 },
 "nbformat": 4,
 "nbformat_minor": 5
}
